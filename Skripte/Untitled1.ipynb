{
 "cells": [
  {
   "cell_type": "code",
   "execution_count": 1,
   "id": "39ce01fa",
   "metadata": {},
   "outputs": [],
   "source": [
    "from PIL import Image, ImageDraw, ImageFont\n",
    "import random"
   ]
  },
  {
   "cell_type": "code",
   "execution_count": 19,
   "id": "5e64745c",
   "metadata": {},
   "outputs": [],
   "source": [
    "save_path = \"/Users/sandra/Desktop/ABI/bild02.png\"\n",
    "\n",
    "folder = \"/Users/sandra/Desktop/ABI/Trainer_vor_2023\"\n"
   ]
  },
  {
   "cell_type": "code",
   "execution_count": 26,
   "id": "62c7addc",
   "metadata": {},
   "outputs": [
    {
     "name": "stdout",
     "output_type": "stream",
     "text": [
      "Fehler beim Laden von .DS_Store: cannot identify image file '/Users/sandra/Desktop/ABI/Trainer_vor_2023/.DS_Store'\n",
      "Es gibt 23 Positionen in der Maske für den Buchstaben A.\n",
      "23 Bilder werden verwendet.\n"
     ]
    },
    {
     "name": "stderr",
     "output_type": "stream",
     "text": [
      "/Users/sandra/opt/anaconda3/lib/python3.7/site-packages/ipykernel_launcher.py:51: DeprecationWarning: textsize is deprecated and will be removed in Pillow 10 (2023-07-01). Use textbbox or textlength instead.\n"
     ]
    },
    {
     "data": {
      "image/png": "[encoded data removed]",
      "text/plain": [
       "<Figure size 720x1080 with 1 Axes>"
      ]
     },
     "metadata": {},
     "output_type": "display_data"
    }
   ],
   "source": [
    "import os\n",
    "import numpy as np\n",
    "import matplotlib.pyplot as plt\n",
    "from PIL import Image, ImageDraw, ImageFont\n",
    "\n",
    "# Funktion zum Laden von Bildern aus einem Ordner\n",
    "def load_images_from_folder(folder, img_size=(60, 60)):  # Bildgröße auf 60x60 Pixel gesetzt\n",
    "    images = []\n",
    "    for filename in os.listdir(folder):\n",
    "        img_path = os.path.join(folder, filename)\n",
    "        try:\n",
    "            img = Image.open(img_path).resize(img_size)\n",
    "            images.append(img)\n",
    "        except Exception as e:\n",
    "            print(f\"Fehler beim Laden von {filename}: {e}\")\n",
    "    return images\n",
    "\n",
    "# Funktion zur Anordnung von Bildern im \"A\"-Muster und Speichern des Bildes\n",
    "def create_a_collage_from_folder(folder, img_size=(60, 60), save_path='collage_A.png'):\n",
    "    # Größe des Buchstabens \"A\" in Pixeln\n",
    "    output_width = 1000\n",
    "    output_height = 1500\n",
    "    grid_size = (10, 15)  # (Reihen, Spalten), um das \"A\" anzupassen\n",
    "\n",
    "    # Bilder aus dem angegebenen Ordner laden\n",
    "    images = load_images_from_folder(folder, img_size)\n",
    "    \n",
    "    # Überprüfen, ob genügend Bilder vorhanden sind\n",
    "    if len(images) == 0:\n",
    "        print(\"Keine Bilder im Ordner gefunden.\")\n",
    "        return\n",
    "\n",
    "    fig, ax = plt.subplots(figsize=(output_width / 100, output_height / 100))  # Größe in Zoll\n",
    "    ax.set_xlim(0, output_width)\n",
    "    ax.set_ylim(0, output_height)\n",
    "    ax.set_xticks([])\n",
    "    ax.set_yticks([])\n",
    "\n",
    "    # Zeichne den Buchstaben \"A\" auf eine leere Leinwand, um die Pixelpositionen zu erhalten\n",
    "    canvas = Image.new('L', (output_width, output_height), 0)\n",
    "    draw = ImageDraw.Draw(canvas)\n",
    "\n",
    "    # Verwende eine größere Schriftart\n",
    "    try:\n",
    "        font = ImageFont.truetype(\"arial.ttf\", 400)  # Größere Schriftart für das \"A\"\n",
    "    except IOError:\n",
    "        font = ImageFont.load_default()  # Fallback auf Standardfont\n",
    "\n",
    "    # Berechne die Textgröße und positioniere das \"A\" in der Mitte\n",
    "    text = \"A\"\n",
    "    text_size = draw.textsize(text, font=font)\n",
    "    text_position = ((output_width - text_size[0]) // 2, (output_height - text_size[1]) // 2)\n",
    "    draw.text(text_position, text, fill=255, font=font)\n",
    "\n",
    "    # Binäre Maske des Buchstaben \"A\"\n",
    "    mask = np.array(canvas)\n",
    "    positions = np.column_stack(np.where(mask > 0))\n",
    "\n",
    "    # Überprüfen, ob genügend Positionen vorhanden sind\n",
    "    num_images = min(len(positions), len(images))  # Nutze entweder die Anzahl der Positionen oder der Bilder\n",
    "    print(f\"Es gibt {len(positions)} Positionen in der Maske für den Buchstaben A.\")\n",
    "    print(f\"{num_images} Bilder werden verwendet.\")\n",
    "\n",
    "    # Ordne die Bilder an den exakten Positionen im Gitter an\n",
    "    for i, pos in enumerate(positions[:num_images]):\n",
    "        x, y = pos[1], pos[0]  # Spalten = X, Zeilen = Y\n",
    "        img = images[i]\n",
    "        ax.imshow(np.array(img), extent=[x, x + img_size[0], y, y + img_size[1]])\n",
    "\n",
    "    plt.gca().invert_yaxis()\n",
    "\n",
    "    # Speichern der Collage\n",
    "    plt.savefig(save_path, bbox_inches='tight')\n",
    "    plt.show()\n",
    "\n",
    "# Beispielaufruf: Ordne die Bilder aus einem Ordner in Form eines \"A\" an und speichere es ab\n",
    "create_a_collage_from_folder(folder, save_path=save_path)\n"
   ]
  },
  {
   "cell_type": "code",
   "execution_count": null,
   "id": "bdfc41eb",
   "metadata": {},
   "outputs": [],
   "source": []
  }
 ],
 "metadata": {
  "kernelspec": {
   "display_name": "Python 3",
   "language": "python",
   "name": "python3"
  },
  "language_info": {
   "codemirror_mode": {
    "name": "ipython",
    "version": 3
   },
   "file_extension": ".py",
   "mimetype": "text/x-python",
   "name": "python",
   "nbconvert_exporter": "python",
   "pygments_lexer": "ipython3",
   "version": "3.7.6"
  }
 },
 "nbformat": 4,
 "nbformat_minor": 5
}
