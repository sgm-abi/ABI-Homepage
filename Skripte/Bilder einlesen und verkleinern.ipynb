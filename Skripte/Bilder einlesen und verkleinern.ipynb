{
 "cells": [
  {
   "cell_type": "code",
   "execution_count": 1,
   "metadata": {},
   "outputs": [],
   "source": [
    "from PIL import Image\n",
    "from PIL.ExifTags import TAGS\n",
    "import os\n",
    "import shutil"
   ]
  },
  {
   "cell_type": "code",
   "execution_count": 2,
   "metadata": {},
   "outputs": [],
   "source": [
    "def get_image_creation_date(image_path):\n",
    "    try:\n",
    "        image = Image.open(image_path)\n",
    "        exif_data = image._getexif()\n",
    "        if exif_data is not None:\n",
    "            for tag, value in exif_data.items():\n",
    "                if TAGS.get(tag) == 'DateTimeOriginal':\n",
    "                    return value.split(\" \")[0] # nur das Datum zurückgeben\n",
    "    except (IOError, AttributeError):\n",
    "        pass\n",
    "\n",
    "    return None\n",
    "\n"
   ]
  },
  {
   "cell_type": "code",
   "execution_count": 3,
   "metadata": {},
   "outputs": [],
   "source": [
    "def get_list_of_creation_date(image_folder):\n",
    "    images= []\n",
    "    \n",
    "    for filename in os.listdir(image_folder):\n",
    "        if filename != \".DS_Store\":\n",
    "            image_path = os.path.join(image_folder, filename)\n",
    "            with Image.open(image_path) as img:\n",
    "                try:\n",
    "                    creation_date = img._getexif()[36867]\n",
    "                except:\n",
    "                    print('no creation date')\n",
    "                    creation_date= \"2023:07:30 10:00:00\"\n",
    "                images.append((image_path, creation_date))\n",
    "    return images"
   ]
  },
  {
   "cell_type": "code",
   "execution_count": 9,
   "metadata": {},
   "outputs": [],
   "source": [
    "def rename_and_resize_files(images, sorted_images, out_path, max_dim, team):\n",
    "    counter = 0\n",
    "    for index, (image_path,creation_date) in enumerate(sorted_images):\n",
    "        \n",
    "        date = creation_date.split(\" \")[0]\n",
    "        date = date.replace(':','')\n",
    "        new_filename = f\"{date}_{team}_{str(index).zfill(3)}.jpg\"\n",
    "        new_filepath = os.path.join(out_path, new_filename)\n",
    "        \n",
    "        with Image.open(image_path) as img:\n",
    "            img.thumbnail((max_dim, max_dim), Image.ANTIALIAS)\n",
    "            img.save(new_filepath)\n",
    "            print(f\"Renamed and resized: {new_filepath}\")"
   ]
  },
  {
   "cell_type": "code",
   "execution_count": 11,
   "metadata": {},
   "outputs": [
    {
     "name": "stderr",
     "output_type": "stream",
     "text": [
      "/Users/sandra/opt/anaconda3/lib/python3.7/site-packages/ipykernel_launcher.py:11: DeprecationWarning: ANTIALIAS is deprecated and will be removed in Pillow 10 (2023-07-01). Use LANCZOS or Resampling.LANCZOS instead.\n",
      "  # This is added back by InteractiveShellApp.init_path()\n"
     ]
    },
    {
     "name": "stdout",
     "output_type": "stream",
     "text": [
      "Renamed and resized: /Users/sandra/Documents/GitHub/ABI-Homepage/images/2023/09/20230908_C-Junioren_Turnier_Steinheim_000.jpg\n",
      "Renamed and resized: /Users/sandra/Documents/GitHub/ABI-Homepage/images/2023/09/20230908_C-Junioren_Turnier_Steinheim_001.jpg\n",
      "Renamed and resized: /Users/sandra/Documents/GitHub/ABI-Homepage/images/2023/09/20230908_C-Junioren_Turnier_Steinheim_002.jpg\n",
      "Renamed and resized: /Users/sandra/Documents/GitHub/ABI-Homepage/images/2023/09/20230908_C-Junioren_Turnier_Steinheim_003.jpg\n",
      "Renamed and resized: /Users/sandra/Documents/GitHub/ABI-Homepage/images/2023/09/20230908_C-Junioren_Turnier_Steinheim_004.jpg\n",
      "Renamed and resized: /Users/sandra/Documents/GitHub/ABI-Homepage/images/2023/09/20230908_C-Junioren_Turnier_Steinheim_005.jpg\n",
      "Renamed and resized: /Users/sandra/Documents/GitHub/ABI-Homepage/images/2023/09/20230908_C-Junioren_Turnier_Steinheim_006.jpg\n",
      "Renamed and resized: /Users/sandra/Documents/GitHub/ABI-Homepage/images/2023/09/20230908_C-Junioren_Turnier_Steinheim_007.jpg\n",
      "Renamed and resized: /Users/sandra/Documents/GitHub/ABI-Homepage/images/2023/09/20230908_C-Junioren_Turnier_Steinheim_008.jpg\n",
      "Renamed and resized: /Users/sandra/Documents/GitHub/ABI-Homepage/images/2023/09/20230908_C-Junioren_Turnier_Steinheim_009.jpg\n",
      "Renamed and resized: /Users/sandra/Documents/GitHub/ABI-Homepage/images/2023/09/20230908_C-Junioren_Turnier_Steinheim_010.jpg\n",
      "Renamed and resized: /Users/sandra/Documents/GitHub/ABI-Homepage/images/2023/09/20230908_C-Junioren_Turnier_Steinheim_011.jpg\n",
      "Renamed and resized: /Users/sandra/Documents/GitHub/ABI-Homepage/images/2023/09/20230908_C-Junioren_Turnier_Steinheim_012.jpg\n",
      "Renamed and resized: /Users/sandra/Documents/GitHub/ABI-Homepage/images/2023/09/20230908_C-Junioren_Turnier_Steinheim_013.jpg\n",
      "Renamed and resized: /Users/sandra/Documents/GitHub/ABI-Homepage/images/2023/09/20230908_C-Junioren_Turnier_Steinheim_014.jpg\n",
      "Renamed and resized: /Users/sandra/Documents/GitHub/ABI-Homepage/images/2023/09/20230908_C-Junioren_Turnier_Steinheim_015.jpg\n",
      "Renamed and resized: /Users/sandra/Documents/GitHub/ABI-Homepage/images/2023/09/20230908_C-Junioren_Turnier_Steinheim_016.jpg\n",
      "Renamed and resized: /Users/sandra/Documents/GitHub/ABI-Homepage/images/2023/09/20230908_C-Junioren_Turnier_Steinheim_017.jpg\n",
      "Renamed and resized: /Users/sandra/Documents/GitHub/ABI-Homepage/images/2023/09/20230908_C-Junioren_Turnier_Steinheim_018.jpg\n",
      "Renamed and resized: /Users/sandra/Documents/GitHub/ABI-Homepage/images/2023/09/20230908_C-Junioren_Turnier_Steinheim_019.jpg\n",
      "Renamed and resized: /Users/sandra/Documents/GitHub/ABI-Homepage/images/2023/09/20230908_C-Junioren_Turnier_Steinheim_020.jpg\n",
      "Renamed and resized: /Users/sandra/Documents/GitHub/ABI-Homepage/images/2023/09/20230908_C-Junioren_Turnier_Steinheim_021.jpg\n",
      "Renamed and resized: /Users/sandra/Documents/GitHub/ABI-Homepage/images/2023/09/20230908_C-Junioren_Turnier_Steinheim_022.jpg\n",
      "Renamed and resized: /Users/sandra/Documents/GitHub/ABI-Homepage/images/2023/09/20230908_C-Junioren_Turnier_Steinheim_023.jpg\n",
      "Renamed and resized: /Users/sandra/Documents/GitHub/ABI-Homepage/images/2023/09/20230908_C-Junioren_Turnier_Steinheim_024.jpg\n",
      "Renamed and resized: /Users/sandra/Documents/GitHub/ABI-Homepage/images/2023/09/20230908_C-Junioren_Turnier_Steinheim_025.jpg\n",
      "Renamed and resized: /Users/sandra/Documents/GitHub/ABI-Homepage/images/2023/09/20230908_C-Junioren_Turnier_Steinheim_026.jpg\n",
      "Renamed and resized: /Users/sandra/Documents/GitHub/ABI-Homepage/images/2023/09/20230908_C-Junioren_Turnier_Steinheim_027.jpg\n",
      "Renamed and resized: /Users/sandra/Documents/GitHub/ABI-Homepage/images/2023/09/20230908_C-Junioren_Turnier_Steinheim_028.jpg\n",
      "Renamed and resized: /Users/sandra/Documents/GitHub/ABI-Homepage/images/2023/09/20230908_C-Junioren_Turnier_Steinheim_029.jpg\n",
      "Renamed and resized: /Users/sandra/Documents/GitHub/ABI-Homepage/images/2023/09/20230908_C-Junioren_Turnier_Steinheim_030.jpg\n",
      "Renamed and resized: /Users/sandra/Documents/GitHub/ABI-Homepage/images/2023/09/20230908_C-Junioren_Turnier_Steinheim_031.jpg\n"
     ]
    }
   ],
   "source": [
    "directory = '/Users/sandra/Downloads/Kamera/'\n",
    "images = get_list_of_creation_date(directory)\n",
    "\n",
    "sorted_images = sorted(images, key=lambda x: x[1])\n",
    "\n",
    "output_folder = '/Users/sandra/Documents/GitHub/ABI-Homepage/images/2023/09/'\n",
    "rename_and_resize_files(images, sorted_images, output_folder, 1200, 'C-Junioren_Turnier_Steinheim')\n",
    "#rename_and_resize_files(directory, out_path, 1200, 'A-Junioren_Kobra_Abschluss')"
   ]
  },
  {
   "cell_type": "code",
   "execution_count": 8,
   "metadata": {},
   "outputs": [],
   "source": [
    "def read_text_file(filename):\n",
    "    with open(filename, 'r', encoding='utf-8') as file:\n",
    "        content = file.read()\n",
    "    return content"
   ]
  },
  {
   "cell_type": "code",
   "execution_count": 32,
   "metadata": {},
   "outputs": [],
   "source": [
    "def find_paragraphs(text):\n",
    "    paragraphs = text.split('\\n\\n')\n",
    "    return paragraphs"
   ]
  },
  {
   "cell_type": "code",
   "execution_count": 39,
   "metadata": {},
   "outputs": [
    {
     "name": "stdout",
     "output_type": "stream",
     "text": [
      "Anzahl der Absätze: 5\n",
      "Absatz 1:<p>\n",
      "Sommerfußballcamp\n",
      "</p>-----------------------\n",
      "Absatz 2:<p>\n",
      "In der Zeit vom 27.07. bis 30.07.2023 fand das zweite Fußballcamp der Fußballschule Frieböse-Hofmeier in Beilstein statt. Die 35 fußballbegeisterten Kinder und Jugendliche trotzten dem nasskalten Wetter und konnten wieder ihre Fähigkeiten an den vier sehr intensive Trainingstage weiter entwickeln.\n",
      "</p>-----------------------\n",
      "Absatz 3:<p>\n",
      "Das Camp bot vielfältige Trainingseinheiten mit Schwerpunkten wie Koordination, Ballbehandlung und Torabschluss sowie zahlreiche Spielformen, die das Zusammenspiel und taktische Spielverständnis förderten. Die Fußballschule von Matthias Frieböse und Christian Hofmeier legt besonderen Wert darauf, dass die Kinder während des Camps Fortschritte erzielen aber dabei der Spaß am Fußball nicht zu kurz kommt.\n",
      "</p>-----------------------\n",
      "Absatz 4:<p>\n",
      "Am Ende jedes Fußballcamps erhalten die jungen Teilnehmer und deren Eltern eine Rückmeldung über das Gelernte und Anregungen, woran sie in den nächsten Wochen bis zum nächsten Camp arbeiten können. Das nächste Camp ist in der Weihnachtspause vom 27.12. bis 29.12.2023 in Beilstein geplant.\n",
      "</p>-----------------------\n",
      "Absatz 5:<p>\n",
      "Darüber hinaus bietet die Fußballschule auch außerhalb der Feriencamps ein regelmäßiges Stützpunkttraining in Beilstein an. Jeden Mittwoch ab 14.00 Uhr haben die Teilnehmer die Möglichkeit, sich entweder im individuellen Fördertraining oder im Taktik-Techniktraining gezielt zu verbessern. Weitere Informationen sind direkt bei der Fußballschule Frieböse-Hofmeier unter www.fussballschule-fh.de erhältlich. Interessierte können jederzeit ein Schnuppertraining absolvieren.\n",
      "</p>-----------------------\n"
     ]
    }
   ],
   "source": [
    "file_path = '/Users/sandra/Downloads/Kamera/text.rtf'\n",
    "text_content = read_text_file(file_path)\n",
    "paragraphs = find_paragraphs(text_content)\n",
    "\n",
    "print(f\"Anzahl der Absätze: {len(paragraphs)}\")\n",
    "for i, paragraph in enumerate(paragraphs, 1):\n",
    "    print(f\"Absatz {i}:<p>\")\n",
    "    print(paragraph)\n",
    "    print(\"</p>-----------------------\")"
   ]
  },
  {
   "cell_type": "code",
   "execution_count": 38,
   "metadata": {},
   "outputs": [
    {
     "ename": "NameError",
     "evalue": "name 'avysr5uUrKsWrUjb7' is not defined",
     "output_type": "error",
     "traceback": [
      "\u001b[0;31m---------------------------------------------------------------------------\u001b[0m",
      "\u001b[0;31mNameError\u001b[0m                                 Traceback (most recent call last)",
      "\u001b[0;32m<ipython-input-38-6d80ea729be7>\u001b[0m in \u001b[0;36m<module>\u001b[0;34m\u001b[0m\n\u001b[1;32m      1\u001b[0m \u001b[0;32mimport\u001b[0m \u001b[0mgdown\u001b[0m\u001b[0;34m\u001b[0m\u001b[0;34m\u001b[0m\u001b[0m\n\u001b[1;32m      2\u001b[0m \u001b[0msave_dir\u001b[0m \u001b[0;34m=\u001b[0m \u001b[0;34m\"/Users/sandra/Documents/Test_Download/\"\u001b[0m\u001b[0;34m\u001b[0m\u001b[0;34m\u001b[0m\u001b[0m\n\u001b[0;32m----> 3\u001b[0;31m \u001b[0murl\u001b[0m\u001b[0;34m=\u001b[0m \u001b[0;34mf\"https://drive.google.com/uc?id={avysr5uUrKsWrUjb7}&export=download\"\u001b[0m\u001b[0;34m\u001b[0m\u001b[0;34m\u001b[0m\u001b[0m\n\u001b[0m\u001b[1;32m      4\u001b[0m \u001b[0mgdown\u001b[0m\u001b[0;34m.\u001b[0m\u001b[0mdownload\u001b[0m\u001b[0;34m(\u001b[0m\u001b[0murl\u001b[0m\u001b[0;34m,\u001b[0m \u001b[0moutput\u001b[0m\u001b[0;34m=\u001b[0m\u001b[0msave_dir\u001b[0m\u001b[0;34m,\u001b[0m \u001b[0mquiet\u001b[0m\u001b[0;34m=\u001b[0m\u001b[0;32mFalse\u001b[0m\u001b[0;34m)\u001b[0m\u001b[0;34m\u001b[0m\u001b[0;34m\u001b[0m\u001b[0m\n",
      "\u001b[0;31mNameError\u001b[0m: name 'avysr5uUrKsWrUjb7' is not defined"
     ]
    }
   ],
   "source": [
    "import gdown\n",
    "save_dir = \"/Users/sandra/Documents/Test_Download/\"\n",
    "url= f\"https://drive.google.com/uc?id={avysr5uUrKsWrUjb7}&export=download\"\n",
    "gdown.download(url, output=save_dir, quiet=False)"
   ]
  },
  {
   "cell_type": "code",
   "execution_count": 9,
   "metadata": {},
   "outputs": [
    {
     "ename": "FileNotFoundError",
     "evalue": "[Errno 2] No such file or directory: 'credentials.json'",
     "output_type": "error",
     "traceback": [
      "\u001b[0;31m---------------------------------------------------------------------------\u001b[0m",
      "\u001b[0;31mFileNotFoundError\u001b[0m                         Traceback (most recent call last)",
      "\u001b[0;32m<ipython-input-9-185cee304e04>\u001b[0m in \u001b[0;36m<module>\u001b[0;34m\u001b[0m\n\u001b[1;32m      1\u001b[0m \u001b[0mfolder_id\u001b[0m \u001b[0;34m=\u001b[0m\u001b[0;34m\"https://photos.google.com/u/1/album/AF1QipNLWawxiQbUlceavLDhDCR6FulXkbraZBRTlyNS\"\u001b[0m\u001b[0;34m\u001b[0m\u001b[0;34m\u001b[0m\u001b[0m\n\u001b[1;32m      2\u001b[0m \u001b[0msave_dir\u001b[0m \u001b[0;34m=\u001b[0m \u001b[0;34m\"/Users/sandra/Documents/Test_Download/\"\u001b[0m\u001b[0;34m\u001b[0m\u001b[0;34m\u001b[0m\u001b[0m\n\u001b[0;32m----> 3\u001b[0;31m \u001b[0mdownload_photos_from_google_folder\u001b[0m\u001b[0;34m(\u001b[0m\u001b[0mfolder_id\u001b[0m\u001b[0;34m,\u001b[0m \u001b[0msave_dir\u001b[0m\u001b[0;34m)\u001b[0m\u001b[0;34m\u001b[0m\u001b[0;34m\u001b[0m\u001b[0m\n\u001b[0m",
      "\u001b[0;32m<ipython-input-8-7ec8f36bc64c>\u001b[0m in \u001b[0;36mdownload_photos_from_google_folder\u001b[0;34m(folder_id, save_dir)\u001b[0m\n\u001b[1;32m      6\u001b[0m \u001b[0;34m\u001b[0m\u001b[0m\n\u001b[1;32m      7\u001b[0m     \u001b[0;31m# Google Photos API-Verbindung herstellen\u001b[0m\u001b[0;34m\u001b[0m\u001b[0;34m\u001b[0m\u001b[0;34m\u001b[0m\u001b[0m\n\u001b[0;32m----> 8\u001b[0;31m     \u001b[0mcredentials\u001b[0m \u001b[0;34m=\u001b[0m \u001b[0mservice_account\u001b[0m\u001b[0;34m.\u001b[0m\u001b[0mCredentials\u001b[0m\u001b[0;34m.\u001b[0m\u001b[0mfrom_service_account_file\u001b[0m\u001b[0;34m(\u001b[0m\u001b[0;34m'credentials.json'\u001b[0m\u001b[0;34m)\u001b[0m\u001b[0;34m\u001b[0m\u001b[0;34m\u001b[0m\u001b[0m\n\u001b[0m\u001b[1;32m      9\u001b[0m     \u001b[0mservice\u001b[0m \u001b[0;34m=\u001b[0m \u001b[0mbuild\u001b[0m\u001b[0;34m(\u001b[0m\u001b[0;34m'photoslibrary'\u001b[0m\u001b[0;34m,\u001b[0m \u001b[0;34m'v1'\u001b[0m\u001b[0;34m,\u001b[0m \u001b[0mcredentials\u001b[0m\u001b[0;34m=\u001b[0m\u001b[0mcredentials\u001b[0m\u001b[0;34m,\u001b[0m \u001b[0mcache_discovery\u001b[0m\u001b[0;34m=\u001b[0m\u001b[0;32mFalse\u001b[0m\u001b[0;34m)\u001b[0m\u001b[0;34m\u001b[0m\u001b[0;34m\u001b[0m\u001b[0m\n\u001b[1;32m     10\u001b[0m \u001b[0;34m\u001b[0m\u001b[0m\n",
      "\u001b[0;32m~/opt/anaconda3/lib/python3.7/site-packages/google/oauth2/service_account.py\u001b[0m in \u001b[0;36mfrom_service_account_file\u001b[0;34m(cls, filename, **kwargs)\u001b[0m\n\u001b[1;32m    255\u001b[0m         \"\"\"\n\u001b[1;32m    256\u001b[0m         info, signer = _service_account_info.from_filename(\n\u001b[0;32m--> 257\u001b[0;31m             \u001b[0mfilename\u001b[0m\u001b[0;34m,\u001b[0m \u001b[0mrequire\u001b[0m\u001b[0;34m=\u001b[0m\u001b[0;34m[\u001b[0m\u001b[0;34m\"client_email\"\u001b[0m\u001b[0;34m,\u001b[0m \u001b[0;34m\"token_uri\"\u001b[0m\u001b[0;34m]\u001b[0m\u001b[0;34m\u001b[0m\u001b[0;34m\u001b[0m\u001b[0m\n\u001b[0m\u001b[1;32m    258\u001b[0m         )\n\u001b[1;32m    259\u001b[0m         \u001b[0;32mreturn\u001b[0m \u001b[0mcls\u001b[0m\u001b[0;34m.\u001b[0m\u001b[0m_from_signer_and_info\u001b[0m\u001b[0;34m(\u001b[0m\u001b[0msigner\u001b[0m\u001b[0;34m,\u001b[0m \u001b[0minfo\u001b[0m\u001b[0;34m,\u001b[0m \u001b[0;34m**\u001b[0m\u001b[0mkwargs\u001b[0m\u001b[0;34m)\u001b[0m\u001b[0;34m\u001b[0m\u001b[0;34m\u001b[0m\u001b[0m\n",
      "\u001b[0;32m~/opt/anaconda3/lib/python3.7/site-packages/google/auth/_service_account_info.py\u001b[0m in \u001b[0;36mfrom_filename\u001b[0;34m(filename, require, use_rsa_signer)\u001b[0m\n\u001b[1;32m     78\u001b[0m             \u001b[0minfo\u001b[0m \u001b[0;32mand\u001b[0m \u001b[0ma\u001b[0m \u001b[0msigner\u001b[0m \u001b[0minstance\u001b[0m\u001b[0;34m.\u001b[0m\u001b[0;34m\u001b[0m\u001b[0;34m\u001b[0m\u001b[0m\n\u001b[1;32m     79\u001b[0m     \"\"\"\n\u001b[0;32m---> 80\u001b[0;31m     \u001b[0;32mwith\u001b[0m \u001b[0mio\u001b[0m\u001b[0;34m.\u001b[0m\u001b[0mopen\u001b[0m\u001b[0;34m(\u001b[0m\u001b[0mfilename\u001b[0m\u001b[0;34m,\u001b[0m \u001b[0;34m\"r\"\u001b[0m\u001b[0;34m,\u001b[0m \u001b[0mencoding\u001b[0m\u001b[0;34m=\u001b[0m\u001b[0;34m\"utf-8\"\u001b[0m\u001b[0;34m)\u001b[0m \u001b[0;32mas\u001b[0m \u001b[0mjson_file\u001b[0m\u001b[0;34m:\u001b[0m\u001b[0;34m\u001b[0m\u001b[0;34m\u001b[0m\u001b[0m\n\u001b[0m\u001b[1;32m     81\u001b[0m         \u001b[0mdata\u001b[0m \u001b[0;34m=\u001b[0m \u001b[0mjson\u001b[0m\u001b[0;34m.\u001b[0m\u001b[0mload\u001b[0m\u001b[0;34m(\u001b[0m\u001b[0mjson_file\u001b[0m\u001b[0;34m)\u001b[0m\u001b[0;34m\u001b[0m\u001b[0;34m\u001b[0m\u001b[0m\n\u001b[1;32m     82\u001b[0m         \u001b[0;32mreturn\u001b[0m \u001b[0mdata\u001b[0m\u001b[0;34m,\u001b[0m \u001b[0mfrom_dict\u001b[0m\u001b[0;34m(\u001b[0m\u001b[0mdata\u001b[0m\u001b[0;34m,\u001b[0m \u001b[0mrequire\u001b[0m\u001b[0;34m=\u001b[0m\u001b[0mrequire\u001b[0m\u001b[0;34m,\u001b[0m \u001b[0muse_rsa_signer\u001b[0m\u001b[0;34m=\u001b[0m\u001b[0muse_rsa_signer\u001b[0m\u001b[0;34m)\u001b[0m\u001b[0;34m\u001b[0m\u001b[0;34m\u001b[0m\u001b[0m\n",
      "\u001b[0;31mFileNotFoundError\u001b[0m: [Errno 2] No such file or directory: 'credentials.json'"
     ]
    }
   ],
   "source": [
    "folder_id =\"https://photos.google.com/u/1/album/AF1QipNLWawxiQbUlceavLDhDCR6FulXkbraZBRTlyNS\"\n",
    "save_dir = \"/Users/sandra/Documents/Test_Download/\"\n",
    "download_photos_from_google_folder(folder_id, save_dir)"
   ]
  },
  {
   "cell_type": "code",
   "execution_count": null,
   "metadata": {},
   "outputs": [],
   "source": []
  }
 ],
 "metadata": {
  "kernelspec": {
   "display_name": "Python 3",
   "language": "python",
   "name": "python3"
  },
  "language_info": {
   "codemirror_mode": {
    "name": "ipython",
    "version": 3
   },
   "file_extension": ".py",
   "mimetype": "text/x-python",
   "name": "python",
   "nbconvert_exporter": "python",
   "pygments_lexer": "ipython3",
   "version": "3.7.6"
  }
 },
 "nbformat": 4,
 "nbformat_minor": 4
}
